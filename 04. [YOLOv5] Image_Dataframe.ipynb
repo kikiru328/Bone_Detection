{
  "cells": [
    {
      "cell_type": "markdown",
      "metadata": {
        "colab_type": "text",
        "id": "view-in-github"
      },
      "source": [
        "<a href=\"https://colab.research.google.com/github/kikiru328/Bone_Detection/blob/main/%5BYOLOv5%5D%20JPG_Dataframe.ipynb\" target=\"_parent\"><img src=\"https://colab.research.google.com/assets/colab-badge.svg\" alt=\"Open In Colab\"/></a>"
      ]
    },
    {
      "cell_type": "code",
      "execution_count": null,
      "metadata": {
        "id": "EnIwZShu1ubc"
      },
      "outputs": [],
      "source": [
        "import pandas as pd\n",
        "import numpy as np\n",
        "import matplotlib.pyplot as plt\n",
        "import cv2\n",
        "import seaborn as sns\n",
        "import os\n",
        "%matplotlib inline"
      ]
    },
    {
      "cell_type": "code",
      "execution_count": null,
      "metadata": {
        "id": "iHCUn6YDPvCR"
      },
      "outputs": [],
      "source": [
        "carpal_path = '/content/drive/MyDrive/2차 프로젝트 원본 데이터/crop_img/female/CARPAL'\n",
        "carpal = os.listdir(carpal_path) \n",
        "\n",
        "ip_path = '/content/drive/MyDrive/2차 프로젝트 원본 데이터/crop_img/female/IP'\n",
        "ip = os.listdir(ip_path)\n",
        "\n",
        "lpip_path = '/content/drive/MyDrive/2차 프로젝트 원본 데이터/crop_img/female/LPIP'\n",
        "lpip = os.listdir(lpip_path)\n",
        "\n",
        "mpip_path = '/content/drive/MyDrive/2차 프로젝트 원본 데이터/crop_img/female/MPIP'\n",
        "mpip = os.listdir(mpip_path)\n",
        "\n",
        "LMCP_path = '/content/drive/MyDrive/2차 프로젝트 원본 데이터/crop_img/female/LMCP'\n",
        "lmcp = os.listdir(LMCP_path)\n",
        "\n",
        "MMCP_path = '/content/drive/MyDrive/2차 프로젝트 원본 데이터/crop_img/female/MMCP'\n",
        "mmcp = os.listdir(MMCP_path)\n",
        "\n",
        "TMCP_path = '/content/drive/MyDrive/2차 프로젝트 원본 데이터/crop_img/female/TMCP'\n",
        "tmcp = os.listdir(TMCP_path)"
      ]
    },
    {
      "cell_type": "code",
      "execution_count": null,
      "metadata": {
        "id": "qnzZi5CQSMwj"
      },
      "outputs": [],
      "source": [
        "female = pd.DataFrame({'carpal':carpal,'lmcp':lmcp,'mmcp':mmcp,'tmcp':tmcp,'lpip':lpip,'mpip':mpip,'ip':ip})"
      ]
    },
    {
      "cell_type": "code",
      "execution_count": null,
      "metadata": {
        "id": "NjkHUjghWpWo"
      },
      "outputs": [],
      "source": [
        "carpal_path = '/content/drive/MyDrive/2차 프로젝트 원본 데이터/crop_img/male/CARPAL'\n",
        "carpal = os.listdir(carpal_path) \n",
        "\n",
        "ip_path = '/content/drive/MyDrive/2차 프로젝트 원본 데이터/crop_img/male/IP'\n",
        "ip = os.listdir(ip_path)\n",
        "\n",
        "lpip_path = '/content/drive/MyDrive/2차 프로젝트 원본 데이터/crop_img/male/LPIP'\n",
        "lpip = os.listdir(lpip_path)\n",
        "\n",
        "mpip_path = '/content/drive/MyDrive/2차 프로젝트 원본 데이터/crop_img/male/MPIP'\n",
        "mpip = os.listdir(mpip_path)\n",
        "\n",
        "LMCP_path = '/content/drive/MyDrive/2차 프로젝트 원본 데이터/crop_img/male/LMCP'\n",
        "lmcp = os.listdir(LMCP_path)\n",
        "\n",
        "MMCP_path = '/content/drive/MyDrive/2차 프로젝트 원본 데이터/crop_img/male/MMCP'\n",
        "mmcp = os.listdir(MMCP_path)\n",
        "\n",
        "TMCP_path = '/content/drive/MyDrive/2차 프로젝트 원본 데이터/crop_img/male/TMCP'\n",
        "tmcp = os.listdir(TMCP_path)"
      ]
    },
    {
      "cell_type": "code",
      "execution_count": null,
      "metadata": {
        "id": "7m7-1jAnYToZ"
      },
      "outputs": [],
      "source": [
        "male = pd.DataFrame({'carpal':carpal,'lmcp':lmcp,'mmcp':mmcp,'tmcp':tmcp,'lpip':lpip,'mpip':mpip,'ip':ip})\n",
        "x = pd.concat([female,male],axis=0)\n",
        "x = x.reset_index(drop=True)\n",
        "test = pd.read_csv('/content/drive/MyDrive/2차 프로젝트 원본 데이터/Yolo_df.csv')\n",
        "test"
      ]
    }
  ],
  "metadata": {
    "accelerator": "GPU",
    "colab": {
      "authorship_tag": "ABX9TyPWt62Z9AwvWfKH7wmpdofi",
      "collapsed_sections": [],
      "include_colab_link": true,
      "machine_shape": "hm",
      "mount_file_id": "1UvlBOekeEhwXj5x49VORVHTf5hHZYFJA",
      "name": "outlier?.ipynb",
      "provenance": []
    },
    "kernelspec": {
      "display_name": "Python 3",
      "name": "python3"
    },
    "language_info": {
      "name": "python"
    }
  },
  "nbformat": 4,
  "nbformat_minor": 0
}
