{
  "cells": [
    {
      "cell_type": "markdown",
      "metadata": {
        "colab_type": "text",
        "id": "view-in-github"
      },
      "source": [
        "<a href=\"https://colab.research.google.com/github/kikiru328/Bone_Detection/blob/main/%ED%98%9C%EC%A0%95/torch_load_final.ipynb\" target=\"_parent\"><img src=\"https://colab.research.google.com/assets/colab-badge.svg\" alt=\"Open In Colab\"/></a>"
      ]
    },
    {
      "cell_type": "markdown",
      "metadata": {
        "id": "cg6TRCG7p90K"
      },
      "source": [
        "공용폴더에 폴더(yolov5), 파일(model.pt) 업로드해뒀습니다."
      ]
    },
    {
      "cell_type": "code",
      "execution_count": null,
      "metadata": {
        "id": "PTouLm9Dv9jp"
      },
      "outputs": [],
      "source": [
        "import pandas as pd\n",
        "df = pd.read_pickle('/content/drive/MyDrive/team2/BA_all_.pkl')\n",
        "# df.columns\n",
        "ba_mean = df.BONE.mean()\n",
        "ba_std = df.BONE.std()"
      ]
    },
    {
      "cell_type": "code",
      "execution_count": null,
      "metadata": {
        "id": "fJn24VSD1MbA"
      },
      "outputs": [],
      "source": [
        "# 필요 경로 및 gender 변수\n",
        "img_path ='/content/drive/MyDrive/team2/preprocessing_done/female/312_F.jpg'\n",
        "model_path = '/content/drive/MyDrive/team2/yolov5'\n",
        "tjnet_path = '/content/drive/MyDrive/team2/TJM/tjnet4.h5'\n",
        "gender = 0\n",
        "\n",
        "# grobal : crops, X(x_test), img, pred\n",
        "predict_zscore(gender, img_path, model_path, tjnet_path, show_crop=False)"
      ]
    },
    {
      "cell_type": "code",
      "execution_count": null,
      "metadata": {
        "id": "Wv_peuvtw5Z2"
      },
      "outputs": [],
      "source": [
        "# 312_F\n",
        "cond1 = df['gender'] == 0\n",
        "cond2 = df['NO']==312\n",
        "print('df z_score :', df[cond1&cond2]['BA_zscore'].values[0], ', 예측 : ', pred)"
      ]
    },
    {
      "cell_type": "code",
      "execution_count": null,
      "metadata": {
        "id": "0xztFY4iwlJq"
      },
      "outputs": [],
      "source": [
        "# 예측된 z_score(pred)로 뼈나이 변환\n",
        "# pred global 변수\n",
        "(pred * ba_std) + ba_mean"
      ]
    },
    {
      "cell_type": "code",
      "execution_count": null,
      "metadata": {
        "id": "EZJHcAbMtAZH"
      },
      "outputs": [],
      "source": [
        "import matplotlib.pyplot as plt\n",
        "%matplotlib inline\n",
        "# img global 변수로 설정.\n",
        "plt.figure(figsize=(16,10))\n",
        "plt.imshow(img)\n",
        "plt.show()"
      ]
    },
    {
      "cell_type": "markdown",
      "metadata": {
        "id": "-Ftr2lesqNI-"
      },
      "source": [
        "## 사용자함수"
      ]
    },
    {
      "cell_type": "code",
      "execution_count": null,
      "metadata": {
        "id": "Ig2izZWUWr7u"
      },
      "outputs": [],
      "source": [
        "def predict_zscore(gender, img_path, model_path,tjnet_path, show_crop=True):\n",
        "  yolo_crop_img(gender, img_path, model_path, show_crop=show_crop)\n",
        "  import numpy as np\n",
        "  import tensorflow.keras as tf\n",
        "  model = tf.models.load_model(tjnet_path, compile=False)\n",
        "  # grobal X : X_ray 이미지의 yolo crop image 값\n",
        "  y_predict = model.predict(X)\n",
        "  global pred\n",
        "  pred = y_predict[0][0]\n",
        "  print('예측 z_score: ', pred)\n",
        "\n",
        "\n",
        "def yolo_crop_img(gender, img_path, model_path, result_out=False, show_crop=False):\n",
        "  import os\n",
        "  import numpy as np\n",
        "  os.chdir(model_path)\n",
        "  import torch\n",
        "  model = torch.load('./model.pt', map_location='cpu')\n",
        "  result = model(img_path)\n",
        "  global crops\n",
        "  crops = result.crop(save=False)\n",
        "  global X\n",
        "  X = out_crop_img(crops, gender)\n",
        "  global img\n",
        "  img = np.squeeze(result.render())\n",
        "  if show_crop: show_img(result)\n",
        "  if result_out: return result\n",
        "\n",
        "def show_img(result):\n",
        "  import matplotlib.pyplot as plt\n",
        "  import numpy as np\n",
        "  %matplotlib inline\n",
        "  plt.figure(figsize=(16,12))\n",
        "  plt.imshow(np.squeeze(result.render()))\n",
        "  plt.show()\n",
        "\n",
        "def out_crop_img(crop, gender):\n",
        "  import re\n",
        "  import cv2\n",
        "  import numpy as np\n",
        "\n",
        "  gender = np.array(gender).reshape(1,1)\n",
        "\n",
        "  for i in range(7):\n",
        "    carpal = re.compile('CARPAL.')\n",
        "    ip = re.compile('IP.')\n",
        "    lmcp = re.compile('LMCP.')\n",
        "    lpip = re.compile('LPIP.')\n",
        "    mmcp = re.compile('MMCP.')\n",
        "    mpip = re.compile('MPIP.')\n",
        "    tmcp = re.compile('TMCP.')\n",
        "\n",
        "    if carpal.search(crop[i]['label']):\n",
        "      CARPAL_img = crop[i]['im']\n",
        "      CARPAL_img = cv2.resize(CARPAL_img, (224,224),cv2.INTER_AREA)\n",
        "      CARPAL_img = np.expand_dims(CARPAL_img, axis=0)\n",
        "\n",
        "    if ip.search(crop[i]['label']):\n",
        "      IP_img = crop[i]['im']\n",
        "      IP_img = cv2.resize(IP_img, (75,75),cv2.INTER_AREA)\n",
        "      IP_img = np.expand_dims(IP_img, axis=0)\n",
        "      \n",
        "    if lmcp.search(crop[i]['label']):\n",
        "      LMCP_img = crop[i]['im']\n",
        "      LMCP_img = cv2.resize(LMCP_img, (75,75),cv2.INTER_AREA)\n",
        "      LMCP_img = np.expand_dims(LMCP_img, axis=0)\n",
        "\n",
        "    if lpip.search(crop[i]['label']):\n",
        "      LPIP_img = crop[i]['im']\n",
        "      LPIP_img = cv2.resize(LPIP_img, (75,75),cv2.INTER_AREA)\n",
        "      LPIP_img = np.expand_dims(LPIP_img, axis=0)\n",
        "    \n",
        "    if mmcp.search(crop[i]['label']):\n",
        "      MMCP_img = crop[i]['im']\n",
        "      MMCP_img = cv2.resize(MMCP_img, (75,75),cv2.INTER_AREA)\n",
        "      MMCP_img = np.expand_dims(MMCP_img, axis=0)\n",
        "    \n",
        "    if mpip.search(crop[i]['label']):\n",
        "      MPIP_img = crop[i]['im']\n",
        "      MPIP_img = cv2.resize(MPIP_img, (75,75),cv2.INTER_AREA)\n",
        "      MPIP_img = np.expand_dims(MPIP_img, axis=0)\n",
        "\n",
        "    if tmcp.search(crop[i]['label']):\n",
        "      TMCP_img = crop[i]['im']\n",
        "      TMCP_img = cv2.resize(TMCP_img, (75,75),cv2.INTER_AREA)\n",
        "      TMCP_img = np.expand_dims(TMCP_img, axis=0)\n",
        "\n",
        "    else : continue\n",
        "\n",
        "  \n",
        "  return [CARPAL_img, LMCP_img, MMCP_img,TMCP_img, LPIP_img, MPIP_img, IP_img, gender]"
      ]
    },
    {
      "cell_type": "code",
      "execution_count": null,
      "metadata": {
        "id": "n_Dk4xtwR37D"
      },
      "outputs": [],
      "source": [
        "for i in range(7):\n",
        "  print(crops[i]['label'])"
      ]
    },
    {
      "cell_type": "code",
      "execution_count": null,
      "metadata": {
        "id": "rrPotfLdRTlF"
      },
      "outputs": [],
      "source": [
        "# 배열에 차원 추가, 3가지 방법\n",
        "# CNN에서 이미지 파일을 불러와서 다차원 배열로 변환할 때 사용하곤 합니다.\n",
        "# 출처 : https://rfriend.tistory.com/428\n",
        "\n",
        "i = 5\n",
        "import numpy as np\n",
        "import re\n",
        "import cv2\n",
        "mpip = re.compile('MPIP.')\n",
        "mpip.search(crops[i]['label'])\n",
        "MPIP_img = crops[i]['im']\n",
        "MPIP_img = cv2.resize(MPIP_img, (75,75),cv2.INTER_AREA)\n",
        "\n",
        "# 1)\n",
        "MPIP_img1 = MPIP_img.reshape(1, 75, 75, 3)\n",
        "print(MPIP_img1.shape)\n",
        "\n",
        "# 2)\n",
        "MPIP_img2 = np.expand_dims(MPIP_img, axis=0)\n",
        "print(MPIP_img2.shape)\n",
        "\n",
        "# 3)\n",
        "MPIP_img3 = MPIP_img[np.newaxis,:]\n",
        "print(MPIP_img3.shape)"
      ]
    },
    {
      "cell_type": "code",
      "execution_count": null,
      "metadata": {
        "id": "C_faH3NfhfgR"
      },
      "outputs": [],
      "source": [
        "# # 필요한 패키지\n",
        "# import os\n",
        "# # 현재 경로 확인\n",
        "# os.getcwd()\n",
        "# # 경로 설정\n",
        "# os.chdir('/content/drive/MyDrive/team2/yolov5')\n",
        "# %cp -r /content/drive/MyDrive/model.pt /content/drive/MyDrive/team2/yolov5/model.pt"
      ]
    },
    {
      "cell_type": "code",
      "execution_count": null,
      "metadata": {
        "id": "x2W7DM3Kderw"
      },
      "outputs": [],
      "source": [
        "import numpy as np\n",
        "import tensorflow.keras as tf\n",
        "\n",
        "model = tf.models.load_model(tjnet_path, compile=False)"
      ]
    },
    {
      "cell_type": "code",
      "execution_count": null,
      "metadata": {
        "id": "M5CUQgwrjnBg"
      },
      "outputs": [],
      "source": [
        "# grobal X : X_ray 이미지의 tjnet input 값\n",
        "y_predict = model.predict(X)\n",
        "print('예측 z_score: ', y_predict[0][0])"
      ]
    },
    {
      "cell_type": "code",
      "execution_count": null,
      "metadata": {
        "id": "MZ0xUVfVnQ9_"
      },
      "outputs": [],
      "source": [
        "# label = labels[y_predict[0].argmax()]\n",
        "# confidence = y_predict[0][y_predict[0].argmax()]"
      ]
    }
  ],
  "metadata": {
    "colab": {
      "authorship_tag": "ABX9TyM8DDYf++mNWCNhs2KTWZmi",
      "collapsed_sections": [
        "-Ftr2lesqNI-",
        "Pow7E6edrdaC"
      ],
      "include_colab_link": true,
      "mount_file_id": "1FXVO55tkxHFmT_J1t7AY99Xh6zQA4w0o",
      "name": "torch_load_final.ipynb의 사본",
      "private_outputs": true,
      "provenance": []
    },
    "kernelspec": {
      "display_name": "Python 3",
      "name": "python3"
    },
    "language_info": {
      "name": "python"
    }
  },
  "nbformat": 4,
  "nbformat_minor": 0
}
