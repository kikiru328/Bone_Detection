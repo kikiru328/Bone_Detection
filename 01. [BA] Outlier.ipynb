{
  "cells": [
    {
      "cell_type": "code",
      "execution_count": null,
      "metadata": {
        "ExecuteTime": {
          "end_time": "2020-08-14T07:53:06.827680Z",
          "start_time": "2020-08-14T07:53:06.074270Z"
        },
        "id": "LgvLqGMm7JXt"
      },
      "outputs": [],
      "source": [
        "import cv2\n",
        "import os\n",
        "import numpy as np\n",
        "import pandas as pd\n",
        "import matplotlib.pylab as plt\n",
        "import seaborn as sns\n",
        "import math\n",
        "%matplotlib inline"
      ]
    },
    {
      "attachments": {},
      "cell_type": "markdown",
      "metadata": {
        "id": "mRIK_DZv7JYC"
      },
      "source": [
        "## EDA\n"
      ]
    },
    {
      "cell_type": "code",
      "execution_count": null,
      "metadata": {
        "ExecuteTime": {
          "end_time": "2020-08-14T05:04:34.666808Z",
          "start_time": "2020-08-14T05:04:34.663808Z"
        },
        "id": "2mSv0KEQ7JYb"
      },
      "outputs": [],
      "source": [
        "import pandas as pd\n",
        "\n",
        "csv_path = \"./team2_data/data/BoneAge/\"\n",
        "df1 = pd.read_excel(csv_path+\"BA_total.xlsx\")\n",
        "df1.head()\n",
        "display(df1.isnull().sum())"
      ]
    },
    {
      "cell_type": "code",
      "execution_count": null,
      "metadata": {
        "id": "GuX3qV1d7JYg"
      },
      "outputs": [],
      "source": [
        "import matplotlib.pyplot as plt\n",
        "plt.figure(figsize=(10,6))\n",
        "m = df1[\"성별(F:2,M:1)\"].loc[df1[\"성별(F:2,M:1)\"]==1]\n",
        "f = df1[\"성별(F:2,M:1)\"].loc[df1[\"성별(F:2,M:1)\"]==2]\n",
        "plt.hist([m, f], bins=2)\n",
        "plt.xlabel(\"male\", fontsize=16)\n",
        "plt.ylabel(\"Count\", fontsize=16)\n",
        "plt.show()"
      ]
    },
    {
      "cell_type": "code",
      "execution_count": null,
      "metadata": {
        "id": "qI8OQUUW7JYm"
      },
      "outputs": [],
      "source": [
        "# 파생변수 골연령(개월), 정규화된 값 추가\n",
        "# df1['boneage'] = df1['BA_total']*12\n",
        "# ba_mean = df1.boneage.mean()\n",
        "# ba_std = df1.boneage.std()\n",
        "# df1[\"BA_z\"] = (df1.boneage-ba_mean)/ba_std\n",
        "\n",
        "from scipy.stats import zscore\n",
        "df1['BA_zscore'] = zscore(df1['BA_total'])"
      ]
    },
    {
      "cell_type": "code",
      "execution_count": null,
      "metadata": {
        "id": "J1CBUmxT7JYy"
      },
      "outputs": [],
      "source": [
        "def cat_age(x):\n",
        "    for i in range(3,19):\n",
        "        if i-1 <= x < i : \n",
        "            x = i-1\n",
        "    return x\n",
        "df1['age'] = df1['검사 시 나이'].map(cat_age)"
      ]
    },
    {
      "cell_type": "code",
      "execution_count": null,
      "metadata": {
        "id": "BbkhK98i7JY7"
      },
      "outputs": [],
      "source": [
        "x1 = df1['age']\n",
        "x2 = df1['BA_total']\n",
        "plt.hist([x1, x2], bins=9, label=['original age','bone age'])\n",
        "plt.xlabel(\"Age\", fontsize=16)\n",
        "plt.ylabel(\"Count\", fontsize=16)\n",
        "plt.title('Age')\n",
        "plt.legend()\n",
        "plt.show()"
      ]
    },
    {
      "cell_type": "code",
      "execution_count": null,
      "metadata": {
        "id": "XAkosIx37JY-"
      },
      "outputs": [],
      "source": [
        "plt.scatter(x=df1[\"BA_total\"], y=df1[\"신장\"])\n",
        "plt.xlabel(\"Bone AGE\", fontsize=16)\n",
        "plt.ylabel(\"Height\", fontsize=16)\n",
        "plt.show()"
      ]
    },
    {
      "cell_type": "code",
      "execution_count": null,
      "metadata": {
        "id": "rX7qu6Ho7JY_"
      },
      "outputs": [],
      "source": [
        "# Outlier \n",
        "df1[df1[\"신장\"] < 80]  # F - 107  Outlier"
      ]
    },
    {
      "cell_type": "markdown",
      "metadata": {
        "id": "AmaOvlM48T6S"
      },
      "source": [
        "### 성장도표"
      ]
    },
    {
      "cell_type": "code",
      "execution_count": null,
      "metadata": {
        "id": "2g-Ktb857JZI"
      },
      "outputs": [],
      "source": [
        "# 성장도표\n",
        "df2 = pd.read_excel(csv_path+\"Tall_korea.xls\")\n",
        "df2.head()\n",
        "display(df2['성별'].value_counts())\n",
        "display(df2[df2['만나이(세)'].notnull()])"
      ]
    },
    {
      "attachments": {},
      "cell_type": "markdown",
      "metadata": {
        "id": "-PJsw2ow7JZT"
      },
      "source": [
        "## EDA"
      ]
    },
    {
      "cell_type": "markdown",
      "metadata": {
        "id": "01JBhWcV7JZa"
      },
      "source": [
        "### 골연령 그래프"
      ]
    },
    {
      "cell_type": "code",
      "execution_count": 1,
      "metadata": {
        "ExecuteTime": {
          "end_time": "2020-08-14T05:04:38.464089Z",
          "start_time": "2020-08-14T05:04:38.410487Z"
        },
        "id": "vj7iZ3w17JZc"
      },
      "outputs": [],
      "source": [
        "# # 파생변수 골연령(개월), 정규화된 값 추가\n",
        "# df['boneage'] = df.BA*12\n",
        "# ba_mean = df.boneage.mean()\n",
        "# ba_std = df.boneage.std()\n",
        "# df[\"BA_z\"] = (df.boneage-ba_mean)/ba_std\n",
        "# df.head()"
      ]
    },
    {
      "cell_type": "code",
      "execution_count": null,
      "metadata": {
        "id": "nPK_Kui97JZe"
      },
      "outputs": [],
      "source": [
        "df['BA_total'] = (df['BA 1'] + df['BA 2'])/2"
      ]
    },
    {
      "cell_type": "code",
      "execution_count": null,
      "metadata": {
        "ExecuteTime": {
          "end_time": "2020-08-14T05:04:40.006535Z",
          "start_time": "2020-08-14T05:04:39.801325Z"
        },
        "id": "XC4eV1bk7JZe"
      },
      "outputs": [],
      "source": [
        "plt.figure(figsize=(10,6))\n",
        "plt.hist(df['BA_total'], bins=9)\n",
        "plt.xlabel(\"Bone Age\", fontsize=16)\n",
        "plt.ylabel(\"Count\", fontsize=16)\n",
        "plt.show()"
      ]
    },
    {
      "cell_type": "code",
      "execution_count": null,
      "metadata": {
        "ExecuteTime": {
          "end_time": "2020-08-14T05:04:40.744569Z",
          "start_time": "2020-08-14T05:04:40.624364Z"
        },
        "id": "qhBCBeFa7JZg"
      },
      "outputs": [],
      "source": [
        "plt.figure(figsize=(10,6))\n",
        "m = df[\"성별\"].loc[df[\"성별\"]==0]\n",
        "f = df[\"성별\"].loc[df[\"성별\"]==1]\n",
        "plt.hist([m, f], bins=2)\n",
        "plt.xlabel(\"male\", fontsize=16)\n",
        "plt.ylabel(\"Count\", fontsize=16)\n",
        "plt.show()"
      ]
    },
    {
      "cell_type": "markdown",
      "metadata": {
        "id": "TQBCPFAz7JZh"
      },
      "source": [
        "### 성별-골연령 히스토그램"
      ]
    },
    {
      "cell_type": "code",
      "execution_count": null,
      "metadata": {
        "ExecuteTime": {
          "end_time": "2020-08-14T05:04:42.947220Z",
          "start_time": "2020-08-14T05:04:42.898019Z"
        },
        "id": "8vokqnyb7JZi"
      },
      "outputs": [],
      "source": [
        "#파생변수 골연령대 추가\n",
        "df[\"BA_GROUP\"] = df[\"BA\"].map(lambda x: int(x))\n",
        "df.head()"
      ]
    },
    {
      "cell_type": "code",
      "execution_count": null,
      "metadata": {
        "ExecuteTime": {
          "end_time": "2020-08-14T05:04:43.895456Z",
          "start_time": "2020-08-14T05:04:43.863855Z"
        },
        "id": "GvXQqWX37JZj"
      },
      "outputs": [],
      "source": [
        "#성별 값 1, 2를 텍스트 Male, Female로 변경\n",
        "df[\"성별\"] = df[\"성별\"].replace([0, 1], [\"Male\", \"Female\"])\n",
        "df.head()"
      ]
    },
    {
      "cell_type": "code",
      "execution_count": null,
      "metadata": {
        "ExecuteTime": {
          "end_time": "2020-08-14T05:04:46.714297Z",
          "start_time": "2020-08-14T05:04:46.627094Z"
        },
        "id": "vUcJkwM-7JZl"
      },
      "outputs": [],
      "source": [
        "#성별, BA 연령대로 피벗테이블\n",
        "df_ = df.loc[:, [\"filename\", \"성별\", \"BA_GROUP\"]]\n",
        "df_pivot = df_.pivot_table(index=[\"성별\"], columns=[\"BA_GROUP\"], values=[\"filename\"], aggfunc=[\"count\"], fill_value=0, margins=True)\n",
        "df_pivot"
      ]
    },
    {
      "cell_type": "code",
      "execution_count": null,
      "metadata": {
        "id": "z2eLFEuZ7JZo"
      },
      "outputs": [],
      "source": [
        "#골연령대 기준으로 히스토그램\n",
        "plt.figure(figsize=(10,6))\n",
        "m = df.loc[df[\"성별\"]==\"Male\"][\"BA_GROUP\"]\n",
        "f = df.loc[df[\"성별\"]==\"Female\"][\"BA_GROUP\"]\n",
        "plt.hist([m, f], bins=9)\n",
        "plt.legend([\"Male\", \"Female\"], fontsize=20)\n",
        "plt.xlabel(\"Bone Age(Group)\", fontsize=16)\n",
        "plt.ylabel(\"Count\", fontsize=16)\n",
        "plt.show()"
      ]
    },
    {
      "cell_type": "code",
      "execution_count": null,
      "metadata": {
        "id": "9Nrg3YCW7JZp"
      },
      "outputs": [],
      "source": [
        "#골열령 기준으로 히스토그램\n",
        "plt.figure(figsize=(10,6))\n",
        "m = df.loc[df[\"성별\"]==\"Male\"][\"BA\"]\n",
        "f = df.loc[df[\"성별\"]==\"Female\"][\"BA\"]\n",
        "plt.hist([m, f], bins=45)\n",
        "plt.legend([\"Male\", \"Female\"], fontsize=20)\n",
        "plt.xlabel(\"Bone Age\", fontsize=16)\n",
        "plt.ylabel(\"Count\", fontsize=16)\n",
        "plt.show()"
      ]
    },
    {
      "cell_type": "markdown",
      "metadata": {
        "id": "PNr8WA8Z7JZq"
      },
      "source": [
        "### 신장-골연령 산점도"
      ]
    },
    {
      "cell_type": "code",
      "execution_count": null,
      "metadata": {
        "id": "bYmxJVJV7JZr"
      },
      "outputs": [],
      "source": [
        "plt.figure(figsize=(10,8))\n",
        "plt.scatter(x=df[\"BA\"], y=df[\"신장\"])\n",
        "plt.xlabel(\"Bone AGE\", fontsize=16)\n",
        "plt.ylabel(\"Height\", fontsize=16)\n",
        "plt.show()"
      ]
    }
  ],
  "metadata": {
    "colab": {
      "collapsed_sections": [],
      "name": "데이터탐색(1주차에주신자료참고).ipynb",
      "provenance": []
    },
    "kernelspec": {
      "display_name": "Python 3",
      "language": "python",
      "name": "python3"
    },
    "language_info": {
      "codemirror_mode": {
        "name": "ipython",
        "version": 3
      },
      "file_extension": ".py",
      "mimetype": "text/x-python",
      "name": "python",
      "nbconvert_exporter": "python",
      "pygments_lexer": "ipython3",
      "version": "3.8.10"
    },
    "toc": {
      "base_numbering": 1,
      "nav_menu": {},
      "number_sections": true,
      "sideBar": true,
      "skip_h1_title": false,
      "title_cell": "Table of Contents",
      "title_sidebar": "Contents",
      "toc_cell": false,
      "toc_position": {},
      "toc_section_display": true,
      "toc_window_display": false
    },
    "varInspector": {
      "cols": {
        "lenName": 16,
        "lenType": 16,
        "lenVar": 40
      },
      "kernels_config": {
        "python": {
          "delete_cmd_postfix": "",
          "delete_cmd_prefix": "del ",
          "library": "var_list.py",
          "varRefreshCmd": "print(var_dic_list())"
        },
        "r": {
          "delete_cmd_postfix": ") ",
          "delete_cmd_prefix": "rm(",
          "library": "var_list.r",
          "varRefreshCmd": "cat(var_dic_list()) "
        }
      },
      "types_to_exclude": [
        "module",
        "function",
        "builtin_function_or_method",
        "instance",
        "_Feature"
      ],
      "window_display": false
    }
  },
  "nbformat": 4,
  "nbformat_minor": 0
}
