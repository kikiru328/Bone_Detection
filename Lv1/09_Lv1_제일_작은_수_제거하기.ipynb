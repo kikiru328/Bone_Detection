{
  "nbformat": 4,
  "nbformat_minor": 0,
  "metadata": {
    "colab": {
      "name": "09. Lv1.제일 작은 수 제거하기.ipynb",
      "provenance": [],
      "collapsed_sections": [],
      "authorship_tag": "ABX9TyNnFaFIQgo/61L164T8iH++",
      "include_colab_link": true
    },
    "kernelspec": {
      "name": "python3",
      "display_name": "Python 3"
    },
    "language_info": {
      "name": "python"
    }
  },
  "cells": [
    {
      "cell_type": "markdown",
      "metadata": {
        "id": "view-in-github",
        "colab_type": "text"
      },
      "source": [
        "<a href=\"https://colab.research.google.com/github/kikiru328/Bone_Detection/blob/main/Lv1/09_Lv1_%EC%A0%9C%EC%9D%BC_%EC%9E%91%EC%9D%80_%EC%88%98_%EC%A0%9C%EA%B1%B0%ED%95%98%EA%B8%B0.ipynb\" target=\"_parent\"><img src=\"https://colab.research.google.com/assets/colab-badge.svg\" alt=\"Open In Colab\"/></a>"
      ]
    },
    {
      "cell_type": "markdown",
      "source": [
        "문제 설명"
      ],
      "metadata": {
        "id": "tSZOektqUdSO"
      }
    },
    {
      "cell_type": "markdown",
      "source": [
        "정수를 저장한 배열, arr 에서 가장 작은 수를 제거한 배열을 리턴하는 함수, solution을 완성해주세요. 단, 리턴하려는 배열이 빈 배열인 경우엔 배열에 -1을 채워 리턴하세요. 예를들어 arr이 [4,3,2,1]인 경우는 [4,3,2]를 리턴 하고, [10]면 [-1]을 리턴 합니다.\n",
        "\n",
        "\n",
        "- 제한조건\n",
        "    - arr은 길이 1 이상인 배열입니다.\n",
        "    - 인덱스 i, j에 대해 i ≠ j이면 arr[i] ≠ arr[j] 입니다.\n",
        "\n",
        "- 예시\n",
        "\n",
        "```\n",
        "arr\t      return\n",
        "[4,3,2,1]\t[4,3,2]\n",
        "[10]\t     [-1]\n",
        "```"
      ],
      "metadata": {
        "id": "s2GDTss_0lB-"
      }
    },
    {
      "cell_type": "markdown",
      "source": [
        "Solution"
      ],
      "metadata": {
        "id": "gb-sQcK53AV4"
      }
    },
    {
      "cell_type": "code",
      "source": [
        "def solution(arr):\n",
        "    if len(arr) > 1:\n",
        "        arr.remove(min(arr))\n",
        "        return arr\n",
        "    else:\n",
        "        return [-1]"
      ],
      "metadata": {
        "id": "tjhnsxpw7wOm"
      },
      "execution_count": null,
      "outputs": []
    },
    {
      "cell_type": "markdown",
      "source": [
        "Solve"
      ],
      "metadata": {
        "id": "7oQ2qHd17zi8"
      }
    },
    {
      "cell_type": "markdown",
      "source": [
        "1. 행렬(리스트)에서 원소제거 remove(value)\n",
        "2. func. remove"
      ],
      "metadata": {
        "id": "YxetpWKC7186"
      }
    },
    {
      "cell_type": "code",
      "source": [
        ""
      ],
      "metadata": {
        "id": "BYz8HrxFEiDy"
      },
      "execution_count": null,
      "outputs": []
    }
  ]
}